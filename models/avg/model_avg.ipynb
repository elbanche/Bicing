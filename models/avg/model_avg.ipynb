{
 "cells": [
  {
   "cell_type": "code",
   "execution_count": 7,
   "id": "9fb2856b",
   "metadata": {},
   "outputs": [],
   "source": [
    "import sys\n",
    "sys.path.append(\"../..\")\n",
    "\n",
    "import pandas as pd\n",
    "from datetime import datetime, timedelta\n",
    "import config"
   ]
  },
  {
   "cell_type": "code",
   "execution_count": 8,
   "id": "4038b38c",
   "metadata": {},
   "outputs": [],
   "source": [
    "name_model = 'Avg'\n",
    "\n",
    "n_media_samples = 6\n",
    "\n",
    "train_csv_path = '../../data/dataframes/dfTrain.csv'\n",
    "test_csv_path = '../../data/dataframes/dfTest.csv'\n",
    "predictions_csv_path = './dfPredictions.csv'"
   ]
  },
  {
   "cell_type": "code",
   "execution_count": 9,
   "id": "7befc195",
   "metadata": {},
   "outputs": [],
   "source": [
    "dfTrain = pd.read_csv(train_csv_path)\n",
    "dfTrain = dfTrain.tail(n_media_samples)\n",
    "\n",
    "dfTest = pd.read_csv(test_csv_path)\n",
    "\n",
    "df = pd.concat([dfTrain, dfTest], ignore_index=True)\n",
    "df['time'] = pd.to_datetime(df['last_updated_dt'])"
   ]
  },
  {
   "cell_type": "code",
   "execution_count": 10,
   "id": "7ad769c4",
   "metadata": {},
   "outputs": [],
   "source": [
    "dfPredictions = pd.DataFrame()\n",
    "\n",
    "for index, row in df.iloc[n_media_samples:].iterrows():\n",
    "    sum = 0\n",
    "    for j in range(1, n_media_samples + 1):\n",
    "        sum += df['num_bikes_available'].iloc[index-j]\n",
    "\n",
    "    for i in range(0, config.prediction_window):    \n",
    "        pred = sum / n_media_samples\n",
    "  \n",
    "        if ((index + i) < df.shape[0]):\n",
    "            dfAux = pd.DataFrame({\n",
    "                'Model': [name_model],\n",
    "                'LastTimeWithData': [df['time'].iloc[index-1]],\n",
    "                'ti': [i + 1],\n",
    "                'Time': [df['time'].iloc[index + i]],\n",
    "                'Predict': [pred],\n",
    "                'Real': [df['num_bikes_available'].iloc[index + i]]\n",
    "            })\n",
    "\n",
    "            dfPredictions = pd.concat([dfPredictions, dfAux], ignore_index=True)\n",
    "\n",
    "            sum += pred\n",
    "\n",
    "        sum -= df['num_bikes_available'].iloc[index + i - config.prediction_window - 1]"
   ]
  },
  {
   "cell_type": "code",
   "execution_count": 11,
   "id": "e7bdb93d",
   "metadata": {},
   "outputs": [],
   "source": [
    "dfPredictions.to_csv(predictions_csv_path, index=False)"
   ]
  }
 ],
 "metadata": {
  "kernelspec": {
   "display_name": "Python 3 (ipykernel)",
   "language": "python",
   "name": "python3"
  },
  "language_info": {
   "codemirror_mode": {
    "name": "ipython",
    "version": 3
   },
   "file_extension": ".py",
   "mimetype": "text/x-python",
   "name": "python",
   "nbconvert_exporter": "python",
   "pygments_lexer": "ipython3",
   "version": "3.11.0"
  },
  "toc-autonumbering": false
 },
 "nbformat": 4,
 "nbformat_minor": 5
}
