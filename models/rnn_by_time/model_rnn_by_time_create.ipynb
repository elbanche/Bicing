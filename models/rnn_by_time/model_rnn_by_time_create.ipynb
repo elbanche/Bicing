{
 "cells": [
  {
   "cell_type": "code",
   "execution_count": 1,
   "id": "9fb2856b",
   "metadata": {},
   "outputs": [
    {
     "name": "stdout",
     "output_type": "stream",
     "text": [
      "WARNING:tensorflow:From c:\\Users\\elban\\AppData\\Local\\Programs\\Python\\Python311\\Lib\\site-packages\\keras\\src\\losses.py:2976: The name tf.losses.sparse_softmax_cross_entropy is deprecated. Please use tf.compat.v1.losses.sparse_softmax_cross_entropy instead.\n",
      "\n"
     ]
    }
   ],
   "source": [
    "import sys\n",
    "sys.path.append(\"../..\")\n",
    "\n",
    "import numpy as np\n",
    "import matplotlib.pyplot as plt\n",
    "import pandas as pd\n",
    "import keras\n",
    "import tensorflow as tf\n",
    "from keras import layers\n",
    "from datetime import datetime, timedelta\n",
    "from sklearn.preprocessing import StandardScaler\n",
    "import pickle\n",
    "import argparse\n",
    "import os"
   ]
  },
  {
   "cell_type": "code",
   "execution_count": 2,
   "id": "74d52a9f",
   "metadata": {},
   "outputs": [
    {
     "name": "stderr",
     "output_type": "stream",
     "text": [
      "usage: ipykernel_launcher.py [-h] [--time_of_the_day TIME_OF_THE_DAY]\n",
      "ipykernel_launcher.py: error: unrecognized arguments: --f=c:\\Users\\elban\\AppData\\Roaming\\jupyter\\runtime\\kernel-v2-188560LR7KawPbERb.json\n"
     ]
    },
    {
     "ename": "SystemExit",
     "evalue": "2",
     "output_type": "error",
     "traceback": [
      "An exception has occurred, use %tb to see the full traceback.\n",
      "\u001b[1;31mSystemExit\u001b[0m\u001b[1;31m:\u001b[0m 2\n"
     ]
    },
    {
     "name": "stderr",
     "output_type": "stream",
     "text": [
      "C:\\Users\\elban\\AppData\\Roaming\\Python\\Python311\\site-packages\\IPython\\core\\interactiveshell.py:3561: UserWarning: To exit: use 'exit', 'quit', or Ctrl-D.\n",
      "  warn(\"To exit: use 'exit', 'quit', or Ctrl-D.\", stacklevel=1)\n"
     ]
    }
   ],
   "source": [
    "parser = argparse.ArgumentParser()\n",
    "parser.add_argument('--time_of_the_day', type=str, help='Time of the day. Format: HH:MM')\n",
    "args = parser.parse_args()\n",
    "time_of_the_day = args.time_of_the_day"
   ]
  },
  {
   "cell_type": "code",
   "execution_count": 3,
   "id": "ac06ad6b",
   "metadata": {},
   "outputs": [],
   "source": [
    "name_model = 'RNN_by_time'\n",
    "\n",
    "seq_length = 6 # model memory\n",
    "\n",
    "train_csv_path = '../../data/dataframes/dfTrain.csv'\n",
    "test_csv_path = '../../data/dataframes/dfTest.csv'\n",
    "predictions_csv_path = './dfPredictions.csv'\n",
    "\n",
    "pickles_path = './pickles' "
   ]
  },
  {
   "cell_type": "code",
   "execution_count": null,
   "id": "7befc195",
   "metadata": {},
   "outputs": [],
   "source": [
    "df = pd.read_csv(train_csv_path)\n",
    "df['time'] = pd.to_datetime(df['last_updated_dt'])"
   ]
  },
  {
   "cell_type": "code",
   "execution_count": null,
   "id": "9dd51ead",
   "metadata": {},
   "outputs": [],
   "source": [
    "if time_of_the_day:\n",
    "    df = df[df['time'].dt.time == datetime.strptime(time_of_the_day, '%H:%M').time()]\n"
   ]
  },
  {
   "cell_type": "code",
   "execution_count": null,
   "id": "692cd194",
   "metadata": {},
   "outputs": [],
   "source": [
    "def df_to_X_y(data):\n",
    "    x = []\n",
    "    y = []\n",
    "\n",
    "    for i in range(len(data)-seq_length):\n",
    "        _x = data[i:(i+seq_length)]\n",
    "        _y = data[i+seq_length:i+seq_length+1]\n",
    "        x.append(_x)\n",
    "        y.append(_y)\n",
    "\n",
    "    return np.array(x),np.array(y)"
   ]
  },
  {
   "cell_type": "code",
   "execution_count": null,
   "id": "2e7fe897",
   "metadata": {},
   "outputs": [],
   "source": [
    "sc = StandardScaler()\n",
    "training_data = sc.fit_transform(df['net_station_change'].values.reshape(-1, 1))\n",
    "\n",
    "trainX, trainY = df_to_X_y(training_data)"
   ]
  },
  {
   "cell_type": "code",
   "execution_count": null,
   "id": "a5590547",
   "metadata": {},
   "outputs": [],
   "source": [
    "#Model Creation\n",
    "model = keras.Sequential()\n",
    "model.add(layers.LSTM(32))\n",
    "model.add(layers.Dropout(0.2))\n",
    "model.add(layers.Dense(1))\n",
    "model.build(input_shape=trainX.shape)\n",
    "model.summary()"
   ]
  },
  {
   "cell_type": "code",
   "execution_count": null,
   "id": "6ccc5416-016e-4266-a1d9-91fd01e06bd0",
   "metadata": {},
   "outputs": [],
   "source": [
    "#Complile\n",
    "model.compile(\n",
    "    loss=keras.losses.MeanSquaredError(),\n",
    "    optimizer=tf.keras.optimizers.SGD(learning_rate=0.001, momentum=0.9),\n",
    "    metrics=[\"mse\"],\n",
    ")"
   ]
  },
  {
   "cell_type": "code",
   "execution_count": null,
   "id": "5016062f-fc99-435e-a0d2-f65eb8c09774",
   "metadata": {},
   "outputs": [],
   "source": [
    "#Fit\n",
    "batch_size = 4\n",
    "history = model.fit(\n",
    "    trainX, trainY, batch_size=batch_size, epochs=10\n",
    ")"
   ]
  },
  {
   "cell_type": "code",
   "execution_count": null,
   "id": "4dce5198",
   "metadata": {},
   "outputs": [],
   "source": [
    "# Save\n",
    "time_of_the_day_str = \"\"\n",
    "if time_of_the_day:\n",
    "    time_of_the_day_str = time_of_the_day.replace(\":\", \"_\") + \"_\"\n",
    "\n",
    "model_path = os.path.join(pickles_path, time_of_the_day_str + \"model.pickle\")\n",
    "with open(model_path, 'wb') as file:\n",
    "    pickle.dump(model, file)\n",
    "\n",
    "scaler_path = os.path.join(pickles_path, time_of_the_day_str + \"scaler.pickle\")\n",
    "with open(scaler_path, 'wb') as file:\n",
    "    pickle.dump(sc, file)"
   ]
  }
 ],
 "metadata": {
  "kernelspec": {
   "display_name": "Python 3 (ipykernel)",
   "language": "python",
   "name": "python3"
  },
  "language_info": {
   "codemirror_mode": {
    "name": "ipython",
    "version": 3
   },
   "file_extension": ".py",
   "mimetype": "text/x-python",
   "name": "python",
   "nbconvert_exporter": "python",
   "pygments_lexer": "ipython3",
   "version": "3.11.0"
  },
  "toc-autonumbering": false
 },
 "nbformat": 4,
 "nbformat_minor": 5
}
