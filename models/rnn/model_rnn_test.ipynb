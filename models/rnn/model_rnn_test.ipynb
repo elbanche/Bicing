{
 "cells": [
  {
   "cell_type": "code",
   "execution_count": 1,
   "id": "9fb2856b",
   "metadata": {},
   "outputs": [],
   "source": [
    "import sys\n",
    "sys.path.append(\"../..\")\n",
    "\n",
    "import pandas as pd\n",
    "import pickle\n",
    "import numpy as np\n",
    "import config\n",
    "from sklearn.preprocessing import StandardScaler\n",
    "from datetime import datetime, timedelta\n",
    "import matplotlib.pyplot as plt"
   ]
  },
  {
   "cell_type": "code",
   "execution_count": 2,
   "id": "70c82d65",
   "metadata": {},
   "outputs": [],
   "source": [
    "name_model = 'RNN'\n",
    "\n",
    "seq_length = 6 # model memory\n",
    "\n",
    "train_csv_path = '../../data/dataframes/dfTrain.csv'\n",
    "test_csv_path = '../../data/dataframes/dfTest.csv'\n",
    "predictions_csv_path = './dfPredictions.csv'\n",
    "\n",
    "rnn_model_pickle_path = './model.pickle' \n",
    "rnn_scaler_pickle_path = './scaler.pickle' "
   ]
  },
  {
   "cell_type": "code",
   "execution_count": 3,
   "id": "eab00b24",
   "metadata": {},
   "outputs": [
    {
     "name": "stdout",
     "output_type": "stream",
     "text": [
      "WARNING:tensorflow:From c:\\Users\\elban\\AppData\\Local\\Programs\\Python\\Python311\\Lib\\site-packages\\keras\\src\\losses.py:2976: The name tf.losses.sparse_softmax_cross_entropy is deprecated. Please use tf.compat.v1.losses.sparse_softmax_cross_entropy instead.\n",
      "\n",
      "WARNING:tensorflow:From c:\\Users\\elban\\AppData\\Local\\Programs\\Python\\Python311\\Lib\\site-packages\\keras\\src\\backend.py:1398: The name tf.executing_eagerly_outside_functions is deprecated. Please use tf.compat.v1.executing_eagerly_outside_functions instead.\n",
      "\n"
     ]
    }
   ],
   "source": [
    "model = pd.read_pickle(rnn_model_pickle_path)\n",
    "sc = pd.read_pickle(rnn_scaler_pickle_path)"
   ]
  },
  {
   "cell_type": "code",
   "execution_count": 4,
   "id": "7befc195",
   "metadata": {},
   "outputs": [],
   "source": [
    "dfTrain = pd.read_csv(train_csv_path)\n",
    "dfTrain = dfTrain.tail(seq_length)\n",
    "\n",
    "dfTest = pd.read_csv(test_csv_path)\n",
    "\n",
    "df = pd.concat([dfTrain, dfTest], ignore_index=True)\n",
    "df['time'] = pd.to_datetime(df['last_updated_dt'])"
   ]
  },
  {
   "cell_type": "code",
   "execution_count": 5,
   "id": "08a2d410",
   "metadata": {},
   "outputs": [],
   "source": [
    "def df_to_X_y(data):\n",
    "    x = []\n",
    "    y = []\n",
    "\n",
    "    for i in range(len(data)-seq_length):\n",
    "        _x = data[i:(i+seq_length)]\n",
    "        _y = data[i+seq_length:i+seq_length+1]\n",
    "        x.append(_x)\n",
    "        y.append(_y)\n",
    "\n",
    "    return np.array(x),np.array(y)"
   ]
  },
  {
   "cell_type": "code",
   "execution_count": 6,
   "id": "bf57814d",
   "metadata": {},
   "outputs": [],
   "source": [
    "training_data = df['time'].values.reshape(-1, 1)\n",
    "testXtime, testYTime = df_to_X_y(training_data)"
   ]
  },
  {
   "cell_type": "code",
   "execution_count": 7,
   "id": "e4505c3f",
   "metadata": {},
   "outputs": [],
   "source": [
    "training_data = df['num_bikes_available'].values.reshape(-1, 1)\n",
    "testX_num_bikes_available, testY_num_bikes_available = df_to_X_y(training_data)"
   ]
  },
  {
   "cell_type": "code",
   "execution_count": 8,
   "id": "2e7fe897",
   "metadata": {},
   "outputs": [],
   "source": [
    "sc = StandardScaler()\n",
    "training_data = sc.fit_transform(df['num_bikes_available'].values.reshape(-1, 1))\n",
    "testX, testY = df_to_X_y(training_data)"
   ]
  },
  {
   "cell_type": "code",
   "execution_count": 9,
   "id": "1952f916",
   "metadata": {},
   "outputs": [
    {
     "name": "stdout",
     "output_type": "stream",
     "text": [
      "11/11 [==============================] - 1s 2ms/step\n",
      "11/11 [==============================] - 0s 3ms/step\n",
      "11/11 [==============================] - 0s 3ms/step\n",
      "11/11 [==============================] - 0s 3ms/step\n",
      "11/11 [==============================] - 0s 3ms/step\n",
      "11/11 [==============================] - 0s 4ms/step\n"
     ]
    }
   ],
   "source": [
    "dfPredictions = pd.DataFrame()\n",
    "\n",
    "testX_i = testX\n",
    "testXtime_i = testXtime[:, -1, 0]\n",
    "testX_num_bikes_available_i = testX_num_bikes_available[:, -1, 0]\n",
    "\n",
    "testY_i = testY[:, 0, 0]\n",
    "testYTime_i = testYTime[:, 0, 0]\n",
    "testY_num_bikes_available_i = testY_num_bikes_available[:, 0, 0]\n",
    "\n",
    "for i in range(1, config.prediction_window + 1):\n",
    "    aux = model.predict(testX_i)\n",
    "    predict = sc.inverse_transform(aux)\n",
    "    predict = predict[:, 0]\n",
    "\n",
    "    dfAux = pd.DataFrame({\n",
    "        'Model' : name_model,\n",
    "        'LastTimeWithData': testXtime_i,\n",
    "        'ti': i,\n",
    "        'Time': testYTime_i,\n",
    "        'Predict': predict,\n",
    "        'Real': testY_num_bikes_available_i\n",
    "    })\n",
    "    dfPredictions = pd.concat([dfPredictions, dfAux], ignore_index=True)\n",
    "\n",
    "    testX_i = np.hstack((testX_i, aux[:, np.newaxis]))  #le agrego una dimension a aux para poder hacer hstack\n",
    "    testX_i = testX_i[:, -seq_length:, :]   #quito la primera columna\n",
    "    testX_i = testX_i[:-1]\n",
    "    \n",
    "    testXtime_i = testXtime_i[:-1]\n",
    "    testX_num_bikes_available_i = testX_num_bikes_available_i[:-1]\n",
    "\n",
    "    testY_i = testY_i[1:]\n",
    "    testYTime_i = testYTime_i[1:]\n",
    "    testY_num_bikes_available_i = testY_num_bikes_available_i[1:]\n"
   ]
  },
  {
   "cell_type": "code",
   "execution_count": 10,
   "id": "e7bdb93d",
   "metadata": {},
   "outputs": [],
   "source": [
    "dfPredictions.to_csv(predictions_csv_path, index=False)"
   ]
  }
 ],
 "metadata": {
  "kernelspec": {
   "display_name": "Python 3 (ipykernel)",
   "language": "python",
   "name": "python3"
  },
  "language_info": {
   "codemirror_mode": {
    "name": "ipython",
    "version": 3
   },
   "file_extension": ".py",
   "mimetype": "text/x-python",
   "name": "python",
   "nbconvert_exporter": "python",
   "pygments_lexer": "ipython3",
   "version": "3.11.0"
  },
  "toc-autonumbering": false
 },
 "nbformat": 4,
 "nbformat_minor": 5
}
