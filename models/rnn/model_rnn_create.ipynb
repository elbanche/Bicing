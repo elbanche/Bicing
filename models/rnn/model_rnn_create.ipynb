{
 "cells": [
  {
   "cell_type": "code",
   "execution_count": 1,
   "id": "9fb2856b",
   "metadata": {},
   "outputs": [
    {
     "name": "stdout",
     "output_type": "stream",
     "text": [
      "WARNING:tensorflow:From c:\\Users\\elban\\AppData\\Local\\Programs\\Python\\Python311\\Lib\\site-packages\\keras\\src\\losses.py:2976: The name tf.losses.sparse_softmax_cross_entropy is deprecated. Please use tf.compat.v1.losses.sparse_softmax_cross_entropy instead.\n",
      "\n"
     ]
    }
   ],
   "source": [
    "import sys\n",
    "sys.path.append(\"../..\")\n",
    "\n",
    "import numpy as np\n",
    "import matplotlib.pyplot as plt\n",
    "import pandas as pd\n",
    "import keras\n",
    "import tensorflow as tf\n",
    "from keras import layers\n",
    "from datetime import datetime, timedelta\n",
    "from sklearn.preprocessing import StandardScaler\n",
    "import pickle\n",
    "import config"
   ]
  },
  {
   "cell_type": "code",
   "execution_count": 2,
   "id": "17aea2d3",
   "metadata": {},
   "outputs": [],
   "source": [
    "name_model = 'RNN'\n",
    "\n",
    "seq_length = 6 # model memory\n",
    "\n",
    "train_csv_path = '../../data/dataframes/dfTrain.csv'\n",
    "test_csv_path = '../../data/dataframes/dfTest.csv'\n",
    "predictions_csv_path = './dfPredictions.csv'\n",
    "\n",
    "model_pickle_path = './model.pickle' \n",
    "scaler_pickle_path = './scaler.pickle' "
   ]
  },
  {
   "cell_type": "code",
   "execution_count": 3,
   "id": "7befc195",
   "metadata": {},
   "outputs": [],
   "source": [
    "df = pd.read_csv(train_csv_path)\n",
    "df['time'] = pd.to_datetime(df['last_updated_dt'])"
   ]
  },
  {
   "cell_type": "code",
   "execution_count": 4,
   "id": "692cd194",
   "metadata": {},
   "outputs": [],
   "source": [
    "def df_to_X_y(data):\n",
    "    x = []\n",
    "    y = []\n",
    "\n",
    "    for i in range(len(data)-seq_length):\n",
    "        _x = data[i:(i+seq_length)]\n",
    "        _y = data[i+seq_length:i+seq_length+1]\n",
    "        x.append(_x)\n",
    "        y.append(_y)\n",
    "\n",
    "    return np.array(x),np.array(y)"
   ]
  },
  {
   "cell_type": "code",
   "execution_count": 5,
   "id": "2e7fe897",
   "metadata": {},
   "outputs": [],
   "source": [
    "sc = StandardScaler()\n",
    "training_data = sc.fit_transform(df['num_bikes_available'].values.reshape(-1, 1))\n",
    "\n",
    "trainX, trainY = df_to_X_y(training_data)"
   ]
  },
  {
   "cell_type": "code",
   "execution_count": 6,
   "id": "a5590547",
   "metadata": {},
   "outputs": [
    {
     "name": "stdout",
     "output_type": "stream",
     "text": [
      "WARNING:tensorflow:From c:\\Users\\elban\\AppData\\Local\\Programs\\Python\\Python311\\Lib\\site-packages\\keras\\src\\backend.py:873: The name tf.get_default_graph is deprecated. Please use tf.compat.v1.get_default_graph instead.\n",
      "\n",
      "Model: \"sequential\"\n",
      "_________________________________________________________________\n",
      " Layer (type)                Output Shape              Param #   \n",
      "=================================================================\n",
      " lstm (LSTM)                 (14393, 32)               4352      \n",
      "                                                                 \n",
      " dropout (Dropout)           (14393, 32)               0         \n",
      "                                                                 \n",
      " dense (Dense)               (14393, 1)                33        \n",
      "                                                                 \n",
      "=================================================================\n",
      "Total params: 4385 (17.13 KB)\n",
      "Trainable params: 4385 (17.13 KB)\n",
      "Non-trainable params: 0 (0.00 Byte)\n",
      "_________________________________________________________________\n"
     ]
    }
   ],
   "source": [
    "#Model Creation\n",
    "model = keras.Sequential()\n",
    "model.add(layers.LSTM(32))\n",
    "model.add(layers.Dropout(0.2))\n",
    "model.add(layers.Dense(1))\n",
    "model.build(input_shape=trainX.shape)\n",
    "model.summary()"
   ]
  },
  {
   "cell_type": "code",
   "execution_count": 7,
   "id": "6ccc5416-016e-4266-a1d9-91fd01e06bd0",
   "metadata": {},
   "outputs": [],
   "source": [
    "#Complile\n",
    "model.compile(\n",
    "    loss=keras.losses.MeanSquaredError(),\n",
    "    optimizer=tf.keras.optimizers.SGD(learning_rate=0.001, momentum=0.9),\n",
    "    metrics=[\"mse\"],\n",
    ")"
   ]
  },
  {
   "cell_type": "code",
   "execution_count": 8,
   "id": "5016062f-fc99-435e-a0d2-f65eb8c09774",
   "metadata": {},
   "outputs": [
    {
     "name": "stdout",
     "output_type": "stream",
     "text": [
      "Epoch 1/10\n",
      "WARNING:tensorflow:From c:\\Users\\elban\\AppData\\Local\\Programs\\Python\\Python311\\Lib\\site-packages\\keras\\src\\utils\\tf_utils.py:492: The name tf.ragged.RaggedTensorValue is deprecated. Please use tf.compat.v1.ragged.RaggedTensorValue instead.\n",
      "\n",
      "WARNING:tensorflow:From c:\\Users\\elban\\AppData\\Local\\Programs\\Python\\Python311\\Lib\\site-packages\\keras\\src\\engine\\base_layer_utils.py:384: The name tf.executing_eagerly_outside_functions is deprecated. Please use tf.compat.v1.executing_eagerly_outside_functions instead.\n",
      "\n",
      "3599/3599 [==============================] - 19s 4ms/step - loss: 0.1450 - mse: 0.1450\n",
      "Epoch 2/10\n",
      "3599/3599 [==============================] - 19s 5ms/step - loss: 0.1052 - mse: 0.1052\n",
      "Epoch 3/10\n",
      "3599/3599 [==============================] - 19s 5ms/step - loss: 0.1014 - mse: 0.1014\n",
      "Epoch 4/10\n",
      "3599/3599 [==============================] - 23s 6ms/step - loss: 0.0990 - mse: 0.0990\n",
      "Epoch 5/10\n",
      "3599/3599 [==============================] - 14s 4ms/step - loss: 0.0969 - mse: 0.0969\n",
      "Epoch 6/10\n",
      "3599/3599 [==============================] - 16s 4ms/step - loss: 0.0947 - mse: 0.0947\n",
      "Epoch 7/10\n",
      "3599/3599 [==============================] - 15s 4ms/step - loss: 0.0957 - mse: 0.0957\n",
      "Epoch 8/10\n",
      "3599/3599 [==============================] - 15s 4ms/step - loss: 0.0954 - mse: 0.0954\n",
      "Epoch 9/10\n",
      "3599/3599 [==============================] - 13s 4ms/step - loss: 0.0955 - mse: 0.0955\n",
      "Epoch 10/10\n",
      "3599/3599 [==============================] - 13s 4ms/step - loss: 0.0955 - mse: 0.0955\n"
     ]
    }
   ],
   "source": [
    "#Fit\n",
    "batch_size = 4\n",
    "history = model.fit(\n",
    "    trainX, trainY, batch_size=batch_size, epochs=10\n",
    ")"
   ]
  },
  {
   "cell_type": "code",
   "execution_count": 9,
   "id": "4dce5198",
   "metadata": {},
   "outputs": [],
   "source": [
    "# Save\n",
    "with open(model_pickle_path, 'wb') as file:\n",
    "    pickle.dump(model, file)\n",
    "\n",
    "with open(scaler_pickle_path, 'wb') as file:\n",
    "    pickle.dump(sc, file)"
   ]
  }
 ],
 "metadata": {
  "kernelspec": {
   "display_name": "Python 3 (ipykernel)",
   "language": "python",
   "name": "python3"
  },
  "language_info": {
   "codemirror_mode": {
    "name": "ipython",
    "version": 3
   },
   "file_extension": ".py",
   "mimetype": "text/x-python",
   "name": "python",
   "nbconvert_exporter": "python",
   "pygments_lexer": "ipython3",
   "version": "3.11.0"
  },
  "toc-autonumbering": false
 },
 "nbformat": 4,
 "nbformat_minor": 5
}
