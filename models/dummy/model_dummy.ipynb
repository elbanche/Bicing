{
 "cells": [
  {
   "cell_type": "code",
   "execution_count": 1,
   "id": "9fb2856b",
   "metadata": {},
   "outputs": [],
   "source": [
    "import sys\n",
    "sys.path.append(\"../..\")\n",
    "\n",
    "import pandas as pd\n",
    "from datetime import datetime, timedelta\n",
    "import config"
   ]
  },
  {
   "cell_type": "code",
   "execution_count": 2,
   "id": "5eef819e",
   "metadata": {},
   "outputs": [],
   "source": [
    "name_model = 'Dummy'\n",
    "train_csv_path = '../../data/dataframes/dfTrain.csv'\n",
    "test_csv_path = '../../data/dataframes/dfTest.csv'\n",
    "predictions_csv_path = './dfPredictions.csv'"
   ]
  },
  {
   "cell_type": "code",
   "execution_count": 3,
   "id": "7befc195",
   "metadata": {},
   "outputs": [],
   "source": [
    "dfTrain = pd.read_csv(train_csv_path)\n",
    "dfTrain = dfTrain.tail(1)\n",
    "\n",
    "dfTest = pd.read_csv(test_csv_path)\n",
    "\n",
    "df = pd.concat([dfTrain, dfTest], ignore_index=True)\n",
    "df['time'] = pd.to_datetime(df['last_updated_dt'])"
   ]
  },
  {
   "cell_type": "code",
   "execution_count": 4,
   "id": "6927e2a8",
   "metadata": {},
   "outputs": [],
   "source": [
    "dfPredictions = pd.DataFrame()\n",
    "\n",
    "for index, row in df.iloc[1:].iterrows():\n",
    "    for i in range(1, config.prediction_window + 1):\n",
    "        dfAux = pd.DataFrame({\n",
    "            'Model': [name_model],\n",
    "            'LastTimeWithData': [df['time'].shift(i).iloc[index]],\n",
    "            'ti': [i],\n",
    "            'Time': [row['time']],\n",
    "            'Predict': [df['num_bikes_available'].shift(i).iloc[index]],\n",
    "            'Real': [row['num_bikes_available']]\n",
    "        }, index=[index])\n",
    "\n",
    "        dfPredictions = pd.concat([dfPredictions, dfAux], ignore_index=True)\n",
    "\n",
    "dfPredictions['LastTimeWithData'] = pd.to_datetime(dfPredictions['LastTimeWithData'], errors='coerce')\n",
    "dfPredictions = dfPredictions.dropna(subset=['LastTimeWithData'])\n",
    "dfPredictions = dfPredictions.dropna(subset=['Predict'])"
   ]
  },
  {
   "cell_type": "code",
   "execution_count": 6,
   "id": "e7bdb93d",
   "metadata": {},
   "outputs": [],
   "source": [
    "dfPredictions.to_csv(predictions_csv_path, index=False)"
   ]
  }
 ],
 "metadata": {
  "kernelspec": {
   "display_name": "Python 3 (ipykernel)",
   "language": "python",
   "name": "python3"
  },
  "language_info": {
   "codemirror_mode": {
    "name": "ipython",
    "version": 3
   },
   "file_extension": ".py",
   "mimetype": "text/x-python",
   "name": "python",
   "nbconvert_exporter": "python",
   "pygments_lexer": "ipython3",
   "version": "3.11.0"
  },
  "toc-autonumbering": false
 },
 "nbformat": 4,
 "nbformat_minor": 5
}
