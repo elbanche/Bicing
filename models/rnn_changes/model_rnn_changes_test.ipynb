{
 "cells": [
  {
   "cell_type": "code",
   "execution_count": 1,
   "id": "9fb2856b",
   "metadata": {},
   "outputs": [],
   "source": [
    "import sys\n",
    "sys.path.append(\"../..\")\n",
    "\n",
    "import pandas as pd\n",
    "import pickle\n",
    "import numpy as np\n",
    "import config\n",
    "from sklearn.preprocessing import StandardScaler\n",
    "from datetime import datetime, timedelta\n",
    "import matplotlib.pyplot as plt"
   ]
  },
  {
   "cell_type": "code",
   "execution_count": 2,
   "id": "84e59185",
   "metadata": {},
   "outputs": [],
   "source": [
    "name_model = 'RNN_changes'\n",
    "\n",
    "seq_length = 6 # model memory\n",
    "\n",
    "train_csv_path = '../../data/dataframes/dfTrain.csv'\n",
    "test_csv_path = '../../data/dataframes/dfTest.csv'\n",
    "predictions_csv_path = './dfPredictions.csv'\n",
    "\n",
    "model_pickle_path = './model.pickle' \n",
    "scaler_pickle_path = './scaler.pickle' "
   ]
  },
  {
   "cell_type": "code",
   "execution_count": 3,
   "id": "eab00b24",
   "metadata": {},
   "outputs": [
    {
     "name": "stdout",
     "output_type": "stream",
     "text": [
      "WARNING:tensorflow:From c:\\Users\\elban\\AppData\\Local\\Programs\\Python\\Python311\\Lib\\site-packages\\keras\\src\\losses.py:2976: The name tf.losses.sparse_softmax_cross_entropy is deprecated. Please use tf.compat.v1.losses.sparse_softmax_cross_entropy instead.\n",
      "\n",
      "WARNING:tensorflow:From c:\\Users\\elban\\AppData\\Local\\Programs\\Python\\Python311\\Lib\\site-packages\\keras\\src\\backend.py:1398: The name tf.executing_eagerly_outside_functions is deprecated. Please use tf.compat.v1.executing_eagerly_outside_functions instead.\n",
      "\n"
     ]
    }
   ],
   "source": [
    "model = pd.read_pickle(model_pickle_path)\n",
    "sc = pd.read_pickle(scaler_pickle_path)"
   ]
  },
  {
   "cell_type": "code",
   "execution_count": 4,
   "id": "7befc195",
   "metadata": {},
   "outputs": [],
   "source": [
    "dfTrain = pd.read_csv(train_csv_path)\n",
    "dfTrain = dfTrain.tail(seq_length)\n",
    "\n",
    "dfTest = pd.read_csv(test_csv_path)\n",
    "\n",
    "df = pd.concat([dfTrain, dfTest], ignore_index=True)\n",
    "df['time'] = pd.to_datetime(df['last_updated_dt'])"
   ]
  },
  {
   "cell_type": "code",
   "execution_count": 5,
   "id": "08a2d410",
   "metadata": {},
   "outputs": [],
   "source": [
    "def df_to_X_y(data):\n",
    "    x = []\n",
    "    y = []\n",
    "\n",
    "    for i in range(len(data)-seq_length):\n",
    "        _x = data[i:(i+seq_length)]\n",
    "        _y = data[i+seq_length:i+seq_length+1]\n",
    "        x.append(_x)\n",
    "        y.append(_y)\n",
    "\n",
    "    return np.array(x),np.array(y)"
   ]
  },
  {
   "cell_type": "code",
   "execution_count": 6,
   "id": "bf57814d",
   "metadata": {},
   "outputs": [],
   "source": [
    "training_data = df['time'].values.reshape(-1, 1)\n",
    "testXtime, testYTime = df_to_X_y(training_data)"
   ]
  },
  {
   "cell_type": "code",
   "execution_count": 7,
   "id": "da57aee7",
   "metadata": {},
   "outputs": [],
   "source": [
    "training_data = df['num_bikes_available'].values.reshape(-1, 1)\n",
    "testX_num_bikes_available, testY_num_bikes_available = df_to_X_y(training_data)"
   ]
  },
  {
   "cell_type": "code",
   "execution_count": 8,
   "id": "2e7fe897",
   "metadata": {},
   "outputs": [],
   "source": [
    "sc = StandardScaler()\n",
    "training_data = sc.fit_transform(df['net_station_change'].values.reshape(-1, 1))\n",
    "testX, testY = df_to_X_y(training_data)"
   ]
  },
  {
   "cell_type": "code",
   "execution_count": 9,
   "id": "74e4a531",
   "metadata": {},
   "outputs": [
    {
     "ename": "NameError",
     "evalue": "name 'prediction_window' is not defined",
     "output_type": "error",
     "traceback": [
      "\u001b[1;31m---------------------------------------------------------------------------\u001b[0m",
      "\u001b[1;31mNameError\u001b[0m                                 Traceback (most recent call last)",
      "Cell \u001b[1;32mIn[9], line 11\u001b[0m\n\u001b[0;32m      8\u001b[0m testYTime_i \u001b[38;5;241m=\u001b[39m testYTime[:, \u001b[38;5;241m0\u001b[39m, \u001b[38;5;241m0\u001b[39m]\n\u001b[0;32m      9\u001b[0m testY_num_bikes_available_i \u001b[38;5;241m=\u001b[39m testY_num_bikes_available[:, \u001b[38;5;241m0\u001b[39m, \u001b[38;5;241m0\u001b[39m]\n\u001b[1;32m---> 11\u001b[0m \u001b[38;5;28;01mfor\u001b[39;00m i \u001b[38;5;129;01min\u001b[39;00m \u001b[38;5;28mrange\u001b[39m(\u001b[38;5;241m1\u001b[39m, \u001b[43mprediction_window\u001b[49m \u001b[38;5;241m+\u001b[39m \u001b[38;5;241m1\u001b[39m):\n\u001b[0;32m     13\u001b[0m     aux \u001b[38;5;241m=\u001b[39m model\u001b[38;5;241m.\u001b[39mpredict(testX_i)\n\u001b[0;32m     14\u001b[0m     predict \u001b[38;5;241m=\u001b[39m sc\u001b[38;5;241m.\u001b[39minverse_transform(aux)\n",
      "\u001b[1;31mNameError\u001b[0m: name 'prediction_window' is not defined"
     ]
    }
   ],
   "source": [
    "dfPredictions = pd.DataFrame()\n",
    "\n",
    "testX_i = testX\n",
    "testXtimeAux = testXtime[:, -1, 0]\n",
    "prev_num_bikes_available = testX_num_bikes_available[:, -1, 0]\n",
    "\n",
    "testY_i = testY[:, 0, 0]\n",
    "testYTime_i = testYTime[:, 0, 0]\n",
    "testY_num_bikes_available_i = testY_num_bikes_available[:, 0, 0]\n",
    "\n",
    "for i in range(1, config.prediction_window + 1):\n",
    "    \n",
    "    aux = model.predict(testX_i)\n",
    "    predict = sc.inverse_transform(aux)\n",
    "        \n",
    "    predict = predict[:, 0]\n",
    "    predict += prev_num_bikes_available\n",
    "\n",
    "    dfAux = pd.DataFrame({\n",
    "        'Model' : name_model,\n",
    "        'LastTimeWithData': testXtimeAux,\n",
    "        'ti': i,\n",
    "        'Time': testYTime_i,\n",
    "        'Predict': predict,\n",
    "        'Real': testY_num_bikes_available_i,\n",
    "        #'PrevPredict': prev_num_bikes_available,\n",
    "    })\n",
    "    dfPredictions = pd.concat([dfPredictions, dfAux], ignore_index=True)\n",
    "\n",
    "    testX_i = np.hstack((testX_i, aux[:, np.newaxis]))  #le agrego una dimension a aux para poder hacer hstack\n",
    "    testX_i = testX_i[:, -seq_length:, :]   #quito la primera columna\n",
    "    testX_i = testX_i[:-1]\n",
    "\n",
    "    prev_num_bikes_available = predict[:-1]\n",
    "    \n",
    "    testXtimeAux = testXtimeAux[:-1]\n",
    "\n",
    "    testY_i = testY_i[1:]\n",
    "    testYTime_i = testYTime_i[1:]\n",
    "    testY_num_bikes_available_i = testY_num_bikes_available_i[1:]\n"
   ]
  },
  {
   "cell_type": "code",
   "execution_count": null,
   "id": "e7bdb93d",
   "metadata": {},
   "outputs": [],
   "source": [
    "dfPredictions.to_csv(predictions_csv_path, index=False)"
   ]
  }
 ],
 "metadata": {
  "kernelspec": {
   "display_name": "Python 3 (ipykernel)",
   "language": "python",
   "name": "python3"
  },
  "language_info": {
   "codemirror_mode": {
    "name": "ipython",
    "version": 3
   },
   "file_extension": ".py",
   "mimetype": "text/x-python",
   "name": "python",
   "nbconvert_exporter": "python",
   "pygments_lexer": "ipython3",
   "version": "3.11.0"
  },
  "toc-autonumbering": false
 },
 "nbformat": 4,
 "nbformat_minor": 5
}
